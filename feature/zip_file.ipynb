{
 "cells": [
  {
   "cell_type": "code",
   "execution_count": 30,
   "metadata": {},
   "outputs": [],
   "source": [
    "import pandas as pd\n",
    "import numpy as np\n",
    "import sys"
   ]
  },
  {
   "cell_type": "code",
   "execution_count": 31,
   "metadata": {},
   "outputs": [],
   "source": [
    "path = 'fastemb/fastproduct_id_100.npy'"
   ]
  },
  {
   "cell_type": "code",
   "execution_count": 32,
   "metadata": {},
   "outputs": [],
   "source": [
    "cre = np.load(path)"
   ]
  },
  {
   "cell_type": "code",
   "execution_count": 33,
   "metadata": {},
   "outputs": [
    {
     "name": "stdout",
     "output_type": "stream",
     "text": [
      "35452912\n"
     ]
    }
   ],
   "source": [
    "print(sys.getsizeof(cre))"
   ]
  },
  {
   "cell_type": "code",
   "execution_count": 34,
   "metadata": {},
   "outputs": [],
   "source": [
    "cre_zip = cre.astype(np.float32)"
   ]
  },
  {
   "cell_type": "code",
   "execution_count": 35,
   "metadata": {},
   "outputs": [
    {
     "name": "stdout",
     "output_type": "stream",
     "text": [
      "17726512\n"
     ]
    }
   ],
   "source": [
    "print(sys.getsizeof(cre_zip))"
   ]
  },
  {
   "cell_type": "code",
   "execution_count": 36,
   "metadata": {},
   "outputs": [],
   "source": [
    "np.save(path,cre_zip)"
   ]
  },
  {
   "cell_type": "code",
   "execution_count": 11,
   "metadata": {},
   "outputs": [
    {
     "name": "stdout",
     "output_type": "stream",
     "text": [
      "/bin/sh: 1: nvidia-smi: not found\n"
     ]
    }
   ],
   "source": [
    "!nvidia-smi"
   ]
  },
  {
   "cell_type": "code",
   "execution_count": 20,
   "metadata": {},
   "outputs": [],
   "source": [
    "cre = np.load(path)"
   ]
  },
  {
   "cell_type": "code",
   "execution_count": 21,
   "metadata": {},
   "outputs": [
    {
     "data": {
      "text/plain": [
       "(337, 100)"
      ]
     },
     "execution_count": 21,
     "metadata": {},
     "output_type": "execute_result"
    }
   ],
   "source": [
    "cre.shape"
   ]
  },
  {
   "cell_type": "code",
   "execution_count": 14,
   "metadata": {},
   "outputs": [
    {
     "data": {
      "text/plain": [
       "array([[ 0.        ,  0.        ,  0.        , ...,  0.        ,\n",
       "         0.        ,  0.        ],\n",
       "       [ 0.0180719 , -0.04442044, -0.20427857, ...,  0.13051264,\n",
       "         0.133398  ,  0.04882534],\n",
       "       [-0.04912727, -0.23081799, -0.34125823, ..., -0.2542879 ,\n",
       "        -0.14248954, -0.00174823],\n",
       "       ...,\n",
       "       [-0.12672579, -0.04764433, -0.30753198, ..., -0.04622789,\n",
       "        -0.17714116,  0.01638326],\n",
       "       [ 0.17796469, -0.21628976, -0.13987984, ..., -0.19567454,\n",
       "         0.07075344,  0.41814452],\n",
       "       [-0.20929328,  0.11846162, -0.05266277, ..., -0.13791056,\n",
       "         0.01122241, -0.26817662]])"
      ]
     },
     "execution_count": 14,
     "metadata": {},
     "output_type": "execute_result"
    }
   ],
   "source": [
    "cre"
   ]
  },
  {
   "cell_type": "code",
   "execution_count": 15,
   "metadata": {},
   "outputs": [
    {
     "data": {
      "text/plain": [
       "array([[ 0.        ,  0.        ,  0.        , ...,  0.        ,\n",
       "         0.        ,  0.        ],\n",
       "       [ 0.0180719 , -0.04442044, -0.20427857, ...,  0.13051264,\n",
       "         0.133398  ,  0.04882534],\n",
       "       [-0.04912727, -0.23081799, -0.34125823, ..., -0.2542879 ,\n",
       "        -0.14248954, -0.00174823],\n",
       "       ...,\n",
       "       [-0.1267258 , -0.04764433, -0.30753198, ..., -0.04622789,\n",
       "        -0.17714116,  0.01638326],\n",
       "       [ 0.17796469, -0.21628976, -0.13987984, ..., -0.19567454,\n",
       "         0.07075344,  0.41814452],\n",
       "       [-0.20929328,  0.11846162, -0.05266277, ..., -0.13791056,\n",
       "         0.01122241, -0.26817662]], dtype=float32)"
      ]
     },
     "execution_count": 15,
     "metadata": {},
     "output_type": "execute_result"
    }
   ],
   "source": [
    "cre_zip"
   ]
  },
  {
   "cell_type": "code",
   "execution_count": null,
   "metadata": {},
   "outputs": [],
   "source": []
  }
 ],
 "metadata": {
  "kernelspec": {
   "display_name": "conda_tensorflow_py3",
   "language": "python",
   "name": "conda_tensorflow_py3"
  },
  "language_info": {
   "codemirror_mode": {
    "name": "ipython",
    "version": 3
   },
   "file_extension": ".py",
   "mimetype": "text/x-python",
   "name": "python",
   "nbconvert_exporter": "python",
   "pygments_lexer": "ipython3",
   "version": "3.6.5"
  }
 },
 "nbformat": 4,
 "nbformat_minor": 4
}

{
 "cells": [
  {
   "cell_type": "code",
   "execution_count": null,
   "metadata": {},
   "outputs": [],
   "source": [
    "#作用：将所有生成的特征进行切割，按顺序划分五折，保存五份训练集和验证集，均以h5py格式进行保存，加快模型训练读写速度\n",
    "#注：代码在多个服务器上均有运行，部分路径可能有修改，如有问题，及时联系"
   ]
  },
  {
   "cell_type": "code",
   "execution_count": null,
   "metadata": {},
   "outputs": [],
   "source": [
    "!pip install gensim\n",
    "!pip install ipywidgets==5.0.0\n",
    "!pip uninstall numpy -y\n",
    "!pip install numpy==1.16.2\n",
    "!pip uninstall keras -y\n",
    "!pip install keras==2.2.4"
   ]
  },
  {
   "cell_type": "code",
   "execution_count": 10,
   "metadata": {},
   "outputs": [],
   "source": [
    "# 导入相关库\n",
    "import os\n",
    "import pandas as pd\n",
    "from tqdm.autonotebook import *\n",
    "from sklearn.decomposition import LatentDirichletAllocation\n",
    "from sklearn.metrics import accuracy_score\n",
    "import time\n",
    "from sklearn.feature_extraction.text import TfidfTransformer\n",
    "from sklearn.feature_extraction.text import CountVectorizer\n",
    "from sklearn.feature_extraction.text import TfidfVectorizer\n",
    "from scipy.sparse import hstack\n",
    "from sklearn.model_selection import StratifiedKFold\n",
    "from gensim.models import FastText, Word2Vec\n",
    "import re\n",
    "from keras.layers import *\n",
    "from keras.models import *\n",
    "from keras.preprocessing.text import Tokenizer, text_to_word_sequence\n",
    "from keras.preprocessing.sequence import pad_sequences\n",
    "from keras.preprocessing import text, sequence\n",
    "from keras.callbacks import *\n",
    "from keras.layers.advanced_activations import LeakyReLU, PReLU\n",
    "import keras.backend as K\n",
    "from keras.optimizers import *\n",
    "from keras.utils import to_categorical\n",
    "import tensorflow as tf\n",
    "import random as rn\n",
    "import gc\n",
    "import logging\n",
    "import gensim\n",
    "from sklearn.preprocessing import MinMaxScaler\n",
    "os.environ['PYTHONHASHSEED'] = '0'\n",
    "np.random.seed(1024)\n",
    "rn.seed(1024)\n",
    "tf.set_random_seed(1024)"
   ]
  },
  {
   "cell_type": "code",
   "execution_count": null,
   "metadata": {},
   "outputs": [],
   "source": [
    "x1 = np.load('./w2v_model1_100_256/x1.npy')\n",
    "x2 = np.load('./w2v_model2_100_256/x1.npy')\n",
    "x3 = np.load('./w2v_model3_100_128/x1.npy')\n",
    "x4 = np.load('./w2v_model4_100_128/x1.npy')\n",
    "x5 = np.load('./w2v_model5_100_64/x1.npy')"
   ]
  },
  {
   "cell_type": "code",
   "execution_count": 3,
   "metadata": {},
   "outputs": [],
   "source": [
    "labels = pd.read_pickle('label.pkl')"
   ]
  },
  {
   "cell_type": "code",
   "execution_count": 16,
   "metadata": {},
   "outputs": [
    {
     "data": {
      "text/html": [
       "<div>\n",
       "<style scoped>\n",
       "    .dataframe tbody tr th:only-of-type {\n",
       "        vertical-align: middle;\n",
       "    }\n",
       "\n",
       "    .dataframe tbody tr th {\n",
       "        vertical-align: top;\n",
       "    }\n",
       "\n",
       "    .dataframe thead th {\n",
       "        text-align: right;\n",
       "    }\n",
       "</style>\n",
       "<table border=\"1\" class=\"dataframe\">\n",
       "  <thead>\n",
       "    <tr style=\"text-align: right;\">\n",
       "      <th></th>\n",
       "      <th>user_id</th>\n",
       "      <th>age</th>\n",
       "      <th>gender</th>\n",
       "    </tr>\n",
       "  </thead>\n",
       "  <tbody>\n",
       "    <tr>\n",
       "      <th>0</th>\n",
       "      <td>1</td>\n",
       "      <td>4</td>\n",
       "      <td>1</td>\n",
       "    </tr>\n",
       "    <tr>\n",
       "      <th>1</th>\n",
       "      <td>2</td>\n",
       "      <td>10</td>\n",
       "      <td>1</td>\n",
       "    </tr>\n",
       "    <tr>\n",
       "      <th>2</th>\n",
       "      <td>3</td>\n",
       "      <td>7</td>\n",
       "      <td>2</td>\n",
       "    </tr>\n",
       "    <tr>\n",
       "      <th>3</th>\n",
       "      <td>4</td>\n",
       "      <td>5</td>\n",
       "      <td>1</td>\n",
       "    </tr>\n",
       "    <tr>\n",
       "      <th>4</th>\n",
       "      <td>5</td>\n",
       "      <td>4</td>\n",
       "      <td>1</td>\n",
       "    </tr>\n",
       "    <tr>\n",
       "      <th>5</th>\n",
       "      <td>6</td>\n",
       "      <td>6</td>\n",
       "      <td>1</td>\n",
       "    </tr>\n",
       "    <tr>\n",
       "      <th>6</th>\n",
       "      <td>7</td>\n",
       "      <td>6</td>\n",
       "      <td>2</td>\n",
       "    </tr>\n",
       "    <tr>\n",
       "      <th>7</th>\n",
       "      <td>8</td>\n",
       "      <td>5</td>\n",
       "      <td>1</td>\n",
       "    </tr>\n",
       "    <tr>\n",
       "      <th>8</th>\n",
       "      <td>9</td>\n",
       "      <td>5</td>\n",
       "      <td>1</td>\n",
       "    </tr>\n",
       "    <tr>\n",
       "      <th>9</th>\n",
       "      <td>10</td>\n",
       "      <td>9</td>\n",
       "      <td>2</td>\n",
       "    </tr>\n",
       "    <tr>\n",
       "      <th>10</th>\n",
       "      <td>11</td>\n",
       "      <td>8</td>\n",
       "      <td>2</td>\n",
       "    </tr>\n",
       "    <tr>\n",
       "      <th>11</th>\n",
       "      <td>12</td>\n",
       "      <td>5</td>\n",
       "      <td>1</td>\n",
       "    </tr>\n",
       "    <tr>\n",
       "      <th>12</th>\n",
       "      <td>13</td>\n",
       "      <td>6</td>\n",
       "      <td>2</td>\n",
       "    </tr>\n",
       "    <tr>\n",
       "      <th>13</th>\n",
       "      <td>14</td>\n",
       "      <td>7</td>\n",
       "      <td>1</td>\n",
       "    </tr>\n",
       "    <tr>\n",
       "      <th>14</th>\n",
       "      <td>15</td>\n",
       "      <td>5</td>\n",
       "      <td>2</td>\n",
       "    </tr>\n",
       "    <tr>\n",
       "      <th>15</th>\n",
       "      <td>16</td>\n",
       "      <td>3</td>\n",
       "      <td>2</td>\n",
       "    </tr>\n",
       "    <tr>\n",
       "      <th>16</th>\n",
       "      <td>17</td>\n",
       "      <td>3</td>\n",
       "      <td>1</td>\n",
       "    </tr>\n",
       "    <tr>\n",
       "      <th>17</th>\n",
       "      <td>18</td>\n",
       "      <td>2</td>\n",
       "      <td>2</td>\n",
       "    </tr>\n",
       "    <tr>\n",
       "      <th>18</th>\n",
       "      <td>19</td>\n",
       "      <td>3</td>\n",
       "      <td>1</td>\n",
       "    </tr>\n",
       "    <tr>\n",
       "      <th>19</th>\n",
       "      <td>20</td>\n",
       "      <td>4</td>\n",
       "      <td>1</td>\n",
       "    </tr>\n",
       "  </tbody>\n",
       "</table>\n",
       "</div>"
      ],
      "text/plain": [
       "    user_id  age  gender\n",
       "0         1    4       1\n",
       "1         2   10       1\n",
       "2         3    7       2\n",
       "3         4    5       1\n",
       "4         5    4       1\n",
       "5         6    6       1\n",
       "6         7    6       2\n",
       "7         8    5       1\n",
       "8         9    5       1\n",
       "9        10    9       2\n",
       "10       11    8       2\n",
       "11       12    5       1\n",
       "12       13    6       2\n",
       "13       14    7       1\n",
       "14       15    5       2\n",
       "15       16    3       2\n",
       "16       17    3       1\n",
       "17       18    2       2\n",
       "18       19    3       1\n",
       "19       20    4       1"
      ]
     },
     "execution_count": 16,
     "metadata": {},
     "output_type": "execute_result"
    }
   ],
   "source": [
    "labels.head(20)"
   ]
  },
  {
   "cell_type": "code",
   "execution_count": null,
   "metadata": {},
   "outputs": [],
   "source": [
    "train_feature=pd.read_pickle('./lgb_feature/train.pkl')\n",
    "test_feature=pd.read_pickle('./lgb_feature/test.pkl')\n",
    "feature = pd.concat([train_feature, test_feature], ignore_index=True)"
   ]
  },
  {
   "cell_type": "code",
   "execution_count": null,
   "metadata": {},
   "outputs": [],
   "source": [
    "feature = feature.fillna(-1)\n",
    "from sklearn.preprocessing import StandardScaler\n",
    "ss=StandardScaler()\n",
    "ss.fit(feature)\n",
    "hin_feature = ss.transform(feature)\n",
    "num_feature_input = hin_feature.shape[1]\n",
    "gc.collect()"
   ]
  },
  {
   "cell_type": "code",
   "execution_count": 6,
   "metadata": {},
   "outputs": [],
   "source": [
    "train_input_1 = x1[:len(labels)]\n",
    "train_input_2 = x2[:len(labels)]\n",
    "train_input_3 = x3[:len(labels)]\n",
    "train_input_4 = x4[:len(labels)]\n",
    "train_input_5 = x5[:len(labels)]\n",
    "train_input_1 = pd.DataFrame(train_input_1)\n",
    "train_input_2 = pd.DataFrame(train_input_2)\n",
    "train_input_3 = pd.DataFrame(train_input_3)\n",
    "train_input_4 = pd.DataFrame(train_input_4)\n",
    "train_input_5 = pd.DataFrame(train_input_5)\n",
    "label_train1 = pd.DataFrame(np.array(labels['age'] - 1))\n",
    "label_train2 = pd.DataFrame(np.array(labels['gender'] - 1))"
   ]
  },
  {
   "cell_type": "code",
   "execution_count": null,
   "metadata": {},
   "outputs": [],
   "source": []
  },
  {
   "cell_type": "code",
   "execution_count": 18,
   "metadata": {},
   "outputs": [],
   "source": [
    "test_input_1 = x1[len(labels):]\n",
    "test_input_2 = x2[len(labels):]\n",
    "test_input_3 = x3[len(labels):]\n",
    "test_input_4 = x4[len(labels):]\n",
    "test_input_5 = x5[len(labels):]\n",
    "test_input_1 = pd.DataFrame(test_input_1)\n",
    "test_input_2 = pd.DataFrame(test_input_2)\n",
    "test_input_3 = pd.DataFrame(test_input_3)\n",
    "test_input_4 = pd.DataFrame(test_input_4)\n",
    "test_input_5 = pd.DataFrame(test_input_5)"
   ]
  },
  {
   "cell_type": "code",
   "execution_count": 22,
   "metadata": {},
   "outputs": [],
   "source": [
    "nn_train = pd.concat([train_input_1,train_input_2,train_input_3,train_input_4,train_input_5,label_train1,label_train2],axis=1)"
   ]
  },
  {
   "cell_type": "code",
   "execution_count": 9,
   "metadata": {},
   "outputs": [
    {
     "data": {
      "text/plain": [
       "(3000000, 502)"
      ]
     },
     "execution_count": 9,
     "metadata": {},
     "output_type": "execute_result"
    }
   ],
   "source": [
    "nn_train.shape"
   ]
  },
  {
   "cell_type": "code",
   "execution_count": 24,
   "metadata": {},
   "outputs": [],
   "source": [
    "nn_train = np.array(nn_train)"
   ]
  },
  {
   "cell_type": "code",
   "execution_count": 25,
   "metadata": {},
   "outputs": [],
   "source": [
    "np.save('./w2v_feature/train.npy',nn_train)"
   ]
  },
  {
   "cell_type": "code",
   "execution_count": 26,
   "metadata": {},
   "outputs": [],
   "source": [
    "nn_test = pd.concat([test_input_1,test_input_2,test_input_3,test_input_4,test_input_5],axis=1)"
   ]
  },
  {
   "cell_type": "code",
   "execution_count": 13,
   "metadata": {},
   "outputs": [],
   "source": [
    "np.save('./w2v_feature/test.npy',nn_test)"
   ]
  },
  {
   "cell_type": "code",
   "execution_count": 14,
   "metadata": {},
   "outputs": [
    {
     "data": {
      "text/plain": [
       "(1000000, 500)"
      ]
     },
     "execution_count": 14,
     "metadata": {},
     "output_type": "execute_result"
    }
   ],
   "source": [
    "nn_test.shape"
   ]
  },
  {
   "cell_type": "code",
   "execution_count": null,
   "metadata": {},
   "outputs": [],
   "source": []
  },
  {
   "cell_type": "code",
   "execution_count": null,
   "metadata": {},
   "outputs": [],
   "source": []
  },
  {
   "cell_type": "code",
   "execution_count": null,
   "metadata": {},
   "outputs": [],
   "source": [
    "#生成h5py格式,处理的是w2v的序列特征"
   ]
  },
  {
   "cell_type": "code",
   "execution_count": 3,
   "metadata": {},
   "outputs": [],
   "source": [
    "target_dir = \"./target_out/\""
   ]
  },
  {
   "cell_type": "code",
   "execution_count": 4,
   "metadata": {},
   "outputs": [],
   "source": [
    "nn_test = np.load(target_dir+'test.npy')"
   ]
  },
  {
   "cell_type": "code",
   "execution_count": 7,
   "metadata": {},
   "outputs": [],
   "source": [
    "F1 = [i for i in range(100)]\n",
    "F2 = [i + 100 for i in range(100)]\n",
    "F3 = [i + 100 * 2 for i in range(100)]\n",
    "F4 = [i + 100 * 3 for i in range(100)]\n",
    "F5 = [i + 100 * 4 for i in range(100)]"
   ]
  },
  {
   "cell_type": "code",
   "execution_count": 8,
   "metadata": {},
   "outputs": [],
   "source": [
    "nn_test1 = nn_test[:,F1]\n",
    "nn_test2 = nn_test[:,F2]\n",
    "nn_test3 = nn_test[:,F3]\n",
    "nn_test4 = nn_test[:,F4]\n",
    "nn_test5 = nn_test[:,F5]\n",
    "f = h5py.File('./tfidf/test.h5', 'w')\n",
    "f.create_dataset('cre', data=nn_test1)\n",
    "f.create_dataset('ad', data=nn_test2)\n",
    "f.create_dataset('adv', data=nn_test3)\n",
    "f.create_dataset('pro', data=nn_test4)\n",
    "f.create_dataset('ind', data=nn_test5)\n",
    "f.close()"
   ]
  },
  {
   "cell_type": "code",
   "execution_count": 3,
   "metadata": {},
   "outputs": [],
   "source": [
    "batch = 512 \n",
    "f = h5py.File('./tfidf/test.h5', \"r\")"
   ]
  },
  {
   "cell_type": "code",
   "execution_count": 4,
   "metadata": {},
   "outputs": [
    {
     "data": {
      "text/plain": [
       "(1000000, 100)"
      ]
     },
     "execution_count": 4,
     "metadata": {},
     "output_type": "execute_result"
    }
   ],
   "source": [
    "f['cre'][0:].shape\n"
   ]
  },
  {
   "cell_type": "code",
   "execution_count": null,
   "metadata": {},
   "outputs": [],
   "source": [
    "f.close()"
   ]
  },
  {
   "cell_type": "code",
   "execution_count": 3,
   "metadata": {},
   "outputs": [],
   "source": [
    "F1 = [i for i in range(100)]\n",
    "F2 = [i + 100 for i in range(100)]\n",
    "F3 = [i + 100 * 2 for i in range(100)]\n",
    "F4 = [i + 100 * 3 for i in range(100)]\n",
    "F5 = [i + 100 * 4 for i in range(100)]"
   ]
  },
  {
   "cell_type": "code",
   "execution_count": 4,
   "metadata": {},
   "outputs": [],
   "source": [
    "def to_ht(nn_test,flag,num):\n",
    "    nn_test1 = nn_test[:,F1]\n",
    "    nn_test2 = nn_test[:,F2]\n",
    "    nn_test3 = nn_test[:,F3]\n",
    "    nn_test4 = nn_test[:,F4]\n",
    "    nn_test5 = nn_test[:,F5]\n",
    "    if flag=='train':\n",
    "        f = h5py.File(f'./w2v_feature/nn_feature{num}/train{num}.h5', 'w')\n",
    "        f.create_dataset('cre', data=nn_test1)\n",
    "        f.create_dataset('ad', data=nn_test2)\n",
    "        f.create_dataset('adv', data=nn_test3)\n",
    "        f.create_dataset('pro', data=nn_test4)\n",
    "        f.create_dataset('ind', data=nn_test5)\n",
    "        f.create_dataset('age', data=nn_test[:,-2])\n",
    "        f.create_dataset('gender', data=nn_test[:,-1])\n",
    "        f.close()\n",
    "    if flag=='vail':\n",
    "        f = h5py.File(f'./w2v_feature/nn_feature{num}/vail{num}.h5', 'w')\n",
    "        f.create_dataset('cre', data=nn_test1)\n",
    "        f.create_dataset('ad', data=nn_test2)\n",
    "        f.create_dataset('adv', data=nn_test3)\n",
    "        f.create_dataset('pro', data=nn_test4)\n",
    "        f.create_dataset('ind', data=nn_test5)\n",
    "        f.create_dataset('age', data=nn_test[:,-2])\n",
    "        f.create_dataset('gender', data=nn_test[:,-1])\n",
    "        f.close()\n",
    "    gc.collect()"
   ]
  },
  {
   "cell_type": "code",
   "execution_count": null,
   "metadata": {},
   "outputs": [],
   "source": []
  },
  {
   "cell_type": "code",
   "execution_count": null,
   "metadata": {},
   "outputs": [],
   "source": [
    "#处理tfidf、count、target的特征，需要更换一些路径和命名"
   ]
  },
  {
   "cell_type": "code",
   "execution_count": null,
   "metadata": {},
   "outputs": [],
   "source": [
    "target_dir = \"./target_out/\""
   ]
  },
  {
   "cell_type": "code",
   "execution_count": 5,
   "metadata": {},
   "outputs": [],
   "source": [
    "nn_test = np.load(target_dir+'test.npy')"
   ]
  },
  {
   "cell_type": "code",
   "execution_count": 6,
   "metadata": {},
   "outputs": [],
   "source": [
    "f = h5py.File(target_dir+'test.h5', 'w')\n",
    "f.create_dataset('target', data=nn_test)#count/tfidf/others...\n",
    "f.close()"
   ]
  },
  {
   "cell_type": "code",
   "execution_count": 7,
   "metadata": {},
   "outputs": [],
   "source": [
    "#得修改对应内容\n",
    "def to_tfidf_ht(nn_test,flag,num):  \n",
    "    nn_test1 = nn_test\n",
    "    if flag=='train':\n",
    "        f = h5py.File(target_dir +f'nn_feature{num}/train{num}.h5', 'w')\n",
    "        f.create_dataset('target', data=nn_test)\n",
    "        f.close()\n",
    "    if flag=='vail':\n",
    "        f = h5py.File(target_dir +f'nn_feature{num}/vail{num}.h5', 'w')\n",
    "        f.create_dataset('target', data=nn_test)\n",
    "        f.close()\n",
    "    gc.collect()"
   ]
  },
  {
   "cell_type": "code",
   "execution_count": 8,
   "metadata": {},
   "outputs": [],
   "source": [
    "path = target_dir+'train.npy'\n",
    "nn_train = np.load(path)"
   ]
  },
  {
   "cell_type": "code",
   "execution_count": 9,
   "metadata": {},
   "outputs": [],
   "source": [
    "size = 600000\n",
    "nn_train1 =nn_train[:size]\n",
    "nn_train2=nn_train[size:2*size]\n",
    "nn_train3=nn_train[2*size:3*size]\n",
    "nn_train4=nn_train[3*size:4*size]\n",
    "nn_train5=nn_train[4*size:5*size]"
   ]
  },
  {
   "cell_type": "code",
   "execution_count": 12,
   "metadata": {},
   "outputs": [
    {
     "name": "stdout",
     "output_type": "stream",
     "text": [
      "(3000000, 120)\n"
     ]
    }
   ],
   "source": [
    "print(nn_train.shape)\n",
    "train1 = np.vstack((nn_train2,nn_train3,nn_train4,nn_train5))\n",
    "to_tfidf_ht(train1,'train',0)\n",
    "to_tfidf_ht(nn_train1,'vail',0)\n",
    "del train1\n",
    "train2 = np.vstack((nn_train1,nn_train3,nn_train4,nn_train5))\n",
    "to_tfidf_ht(train2,'train',1)\n",
    "to_tfidf_ht(nn_train2,'vail',1)\n",
    "del train2\n",
    "train3 = np.vstack((nn_train1,nn_train2,nn_train4,nn_train5))\n",
    "to_tfidf_ht(train3,'train',2)\n",
    "to_tfidf_ht(nn_train3,'vail',2)\n",
    "del train3\n",
    "train4 = np.vstack((nn_train1,nn_train2,nn_train3,nn_train5))\n",
    "to_tfidf_ht(train4,'train',3)\n",
    "to_tfidf_ht(nn_train4,'vail',3)\n",
    "del train4\n",
    "train5 = np.vstack((nn_train1,nn_train2,nn_train3,nn_train4))\n",
    "to_tfidf_ht(train5,'train',4)\n",
    "to_tfidf_ht(nn_train5,'vail',4)\n",
    "del train5"
   ]
  },
  {
   "cell_type": "code",
   "execution_count": 13,
   "metadata": {},
   "outputs": [],
   "source": []
  },
  {
   "cell_type": "code",
   "execution_count": null,
   "metadata": {},
   "outputs": [],
   "source": []
  },
  {
   "cell_type": "code",
   "execution_count": null,
   "metadata": {},
   "outputs": [],
   "source": [
    "#处理deepwalk得到的user_id 特征，前面的都是概率特征，这个为数值特征，得做一个归一化处理\n",
    "#这里是把五份user_id已全部拼接好得到的all_user_data.npy"
   ]
  },
  {
   "cell_type": "code",
   "execution_count": 5,
   "metadata": {},
   "outputs": [],
   "source": [
    "all_data = np.load('./data/all_user_data.npy')"
   ]
  },
  {
   "cell_type": "code",
   "execution_count": 14,
   "metadata": {},
   "outputs": [],
   "source": [
    "scaler = MinMaxScaler()\n",
    "scaler.fit(all_data)\n",
    "df= scaler.transform(all_data)"
   ]
  },
  {
   "cell_type": "code",
   "execution_count": 15,
   "metadata": {},
   "outputs": [],
   "source": [
    "nn_test = df[3000000:]\n",
    "nn_train = df[:3000000]"
   ]
  },
  {
   "cell_type": "code",
   "execution_count": 16,
   "metadata": {},
   "outputs": [],
   "source": [
    "target_dir = \"./target_user/\""
   ]
  },
  {
   "cell_type": "code",
   "execution_count": 17,
   "metadata": {},
   "outputs": [],
   "source": [
    "f = h5py.File(target_dir+'test.h5', 'w')\n",
    "f.create_dataset('target_user', data=nn_test)#count/tfidf/others...\n",
    "f.close()"
   ]
  },
  {
   "cell_type": "code",
   "execution_count": 21,
   "metadata": {},
   "outputs": [],
   "source": [
    "#得修改对应内容\n",
    "def to_tfidf_ht(nn_test,flag,num):  \n",
    "    nn_test1 = nn_test\n",
    "    if flag=='train':\n",
    "        f = h5py.File(target_dir +f'nn_feature{num}/train{num}.h5', 'w')\n",
    "        f.create_dataset('target_user', data=nn_test)\n",
    "        f.close()\n",
    "    if flag=='vail':\n",
    "        f = h5py.File(target_dir +f'nn_feature{num}/vail{num}.h5', 'w')\n",
    "        f.create_dataset('target_user', data=nn_test)\n",
    "        f.close()\n",
    "    gc.collect()"
   ]
  },
  {
   "cell_type": "code",
   "execution_count": 22,
   "metadata": {},
   "outputs": [],
   "source": [
    "size = 600000\n",
    "nn_train1 =nn_train[:size]\n",
    "nn_train2=nn_train[size:2*size]\n",
    "nn_train3=nn_train[2*size:3*size]\n",
    "nn_train4=nn_train[3*size:4*size]\n",
    "nn_train5=nn_train[4*size:5*size]"
   ]
  },
  {
   "cell_type": "code",
   "execution_count": 23,
   "metadata": {},
   "outputs": [
    {
     "name": "stdout",
     "output_type": "stream",
     "text": [
      "(3000000, 704)\n"
     ]
    }
   ],
   "source": [
    "print(nn_train.shape)\n",
    "train1 = np.vstack((nn_train2,nn_train3,nn_train4,nn_train5))\n",
    "to_tfidf_ht(train1,'train',0)\n",
    "to_tfidf_ht(nn_train1,'vail',0)\n",
    "del train1\n",
    "train2 = np.vstack((nn_train1,nn_train3,nn_train4,nn_train5))\n",
    "to_tfidf_ht(train2,'train',1)\n",
    "to_tfidf_ht(nn_train2,'vail',1)\n",
    "del train2\n",
    "train3 = np.vstack((nn_train1,nn_train2,nn_train4,nn_train5))\n",
    "to_tfidf_ht(train3,'train',2)\n",
    "to_tfidf_ht(nn_train3,'vail',2)\n",
    "del train3\n",
    "train4 = np.vstack((nn_train1,nn_train2,nn_train3,nn_train5))\n",
    "to_tfidf_ht(train4,'train',3)\n",
    "to_tfidf_ht(nn_train4,'vail',3)\n",
    "del train4\n",
    "train5 = np.vstack((nn_train1,nn_train2,nn_train3,nn_train4))\n",
    "to_tfidf_ht(train5,'train',4)\n",
    "to_tfidf_ht(nn_train5,'vail',4)\n",
    "del train5"
   ]
  },
  {
   "cell_type": "code",
   "execution_count": null,
   "metadata": {},
   "outputs": [],
   "source": []
  },
  {
   "cell_type": "code",
   "execution_count": null,
   "metadata": {},
   "outputs": [],
   "source": []
  },
  {
   "cell_type": "code",
   "execution_count": null,
   "metadata": {},
   "outputs": [],
   "source": [
    "#压缩文件,传输到其他服务器"
   ]
  },
  {
   "cell_type": "code",
   "execution_count": 24,
   "metadata": {},
   "outputs": [
    {
     "name": "stdout",
     "output_type": "stream",
     "text": [
      "  adding: target_user/ (stored 0%)\n",
      "  adding: target_user/test.h5 (deflated 12%)\n",
      "  adding: target_user/nn_feature4/ (stored 0%)\n",
      "  adding: target_user/nn_feature4/train4.h5 (deflated 12%)\n",
      "  adding: target_user/nn_feature4/vail4.h5 (deflated 12%)\n",
      "  adding: target_user/nn_feature1/ (stored 0%)\n",
      "  adding: target_user/nn_feature1/vail1.h5 (deflated 12%)\n",
      "  adding: target_user/nn_feature1/train1.h5 (deflated 12%)\n",
      "  adding: target_user/.ipynb_checkpoints/ (stored 0%)\n",
      "  adding: target_user/nn_feature3/ (stored 0%)\n",
      "  adding: target_user/nn_feature3/train3.h5 (deflated 12%)\n",
      "  adding: target_user/nn_feature3/vail3.h5 (deflated 12%)\n",
      "  adding: target_user/nn_feature0/ (stored 0%)\n",
      "  adding: target_user/nn_feature0/train0.h5 (deflated 12%)\n",
      "  adding: target_user/nn_feature0/vail0.h5 (deflated 12%)\n",
      "  adding: target_user/nn_feature2/ (stored 0%)\n",
      "  adding: target_user/nn_feature2/train2.h5 (deflated 12%)\n",
      "  adding: target_user/nn_feature2/vail2.h5 (deflated 12%)\n"
     ]
    }
   ],
   "source": [
    "!zip -r target_user.zip target_user"
   ]
  },
  {
   "cell_type": "code",
   "execution_count": 1,
   "metadata": {},
   "outputs": [],
   "source": [
    "import os\n",
    "os.chdir('tfidf')#w2v_feature"
   ]
  },
  {
   "cell_type": "code",
   "execution_count": 2,
   "metadata": {},
   "outputs": [
    {
     "name": "stdout",
     "output_type": "stream",
     "text": [
      "  adding: nn_feature0/ (stored 0%)\n",
      "  adding: nn_feature0/train0.h5 (deflated 5%)\n",
      "  adding: nn_feature0/vail0.h5 (deflated 5%)\n"
     ]
    }
   ],
   "source": [
    "!zip -r nn_feature0.zip ./nn_feature0"
   ]
  },
  {
   "cell_type": "code",
   "execution_count": 3,
   "metadata": {},
   "outputs": [
    {
     "name": "stdout",
     "output_type": "stream",
     "text": [
      "  adding: nn_feature1/ (stored 0%)\n",
      "  adding: nn_feature1/vail1.h5 (deflated 5%)\n",
      "  adding: nn_feature1/train1.h5 (deflated 5%)\n"
     ]
    }
   ],
   "source": [
    "!zip -r nn_feature1.zip ./nn_feature1"
   ]
  },
  {
   "cell_type": "code",
   "execution_count": 7,
   "metadata": {},
   "outputs": [
    {
     "name": "stdout",
     "output_type": "stream",
     "text": [
      "  adding: nn_feature2/ (stored 0%)\n",
      "  adding: nn_feature2/vail2.h5 (deflated 5%)\n",
      "  adding: nn_feature2/train2.h5 (deflated 5%)\n"
     ]
    }
   ],
   "source": [
    "!zip -r nn_feature2.zip ./nn_feature2"
   ]
  },
  {
   "cell_type": "code",
   "execution_count": 8,
   "metadata": {},
   "outputs": [
    {
     "name": "stdout",
     "output_type": "stream",
     "text": [
      "  adding: nn_feature3/ (stored 0%)\n",
      "  adding: nn_feature3/train3.h5 (deflated 5%)\n",
      "  adding: nn_feature3/vail3.h5 (deflated 5%)\n"
     ]
    }
   ],
   "source": [
    "!zip -r nn_feature3.zip ./nn_feature3"
   ]
  },
  {
   "cell_type": "code",
   "execution_count": 9,
   "metadata": {},
   "outputs": [
    {
     "name": "stdout",
     "output_type": "stream",
     "text": [
      "  adding: nn_feature4/ (stored 0%)\n",
      "  adding: nn_feature4/train4.h5 (deflated 5%)\n",
      "  adding: nn_feature4/vail4.h5 (deflated 5%)\n",
      "  adding: nn_feature4/.ipynb_checkpoints/ (stored 0%)\n"
     ]
    }
   ],
   "source": [
    "!zip -r nn_feature4.zip ./nn_feature4"
   ]
  },
  {
   "cell_type": "code",
   "execution_count": null,
   "metadata": {},
   "outputs": [],
   "source": []
  },
  {
   "cell_type": "code",
   "execution_count": null,
   "metadata": {},
   "outputs": [],
   "source": [
    "#重新开启,观察数据是否生成正常"
   ]
  },
  {
   "cell_type": "code",
   "execution_count": 6,
   "metadata": {},
   "outputs": [],
   "source": [
    "ps=0\n",
    "filepath_tr = f\"./w2v_feature/nn_feature{ps}/vail{ps}.h5\"\n",
    "inputPath=filepath_tr\n",
    "all_num = 2400000\n",
    "batch_size=1\n",
    "mode=\"train\""
   ]
  },
  {
   "cell_type": "code",
   "execution_count": 8,
   "metadata": {},
   "outputs": [],
   "source": [
    "ps = 0\n",
    "f = h5py.File(f\"./w2v_feature/nn_feature{ps}/train{ps}.h5\", \"r\")\n",
    "f_va = h5py.File(f\"./w2v_feature/nn_feature{ps}/vail{ps}.h5\", \"r\")"
   ]
  },
  {
   "cell_type": "code",
   "execution_count": 5,
   "metadata": {},
   "outputs": [],
   "source": [
    "f.close()\n",
    "#f_va.close()"
   ]
  },
  {
   "cell_type": "code",
   "execution_count": 7,
   "metadata": {},
   "outputs": [
    {
     "name": "stdout",
     "output_type": "stream",
     "text": [
      "13\n",
      "([array([[     0,      0,      0,      0,      0,      0,      0,      0,\n",
      "             0,      0,      0,      0,      0,      0,      0,      0,\n",
      "             0,      0,      0,      0,      0,      0,      0,      0,\n",
      "             0,      0,      0,      0,      0,      0,      0,      0,\n",
      "             0,      0,      0,      0,      0,      0,      0,      0,\n",
      "             0,      0,      0,      0,      0,      0,      0,      0,\n",
      "             0,      0,      0,      0,      0,      0,      0,      0,\n",
      "             0,      0,      0,      0,      0,      0,      0,      0,\n",
      "             0,      0,      0,      0,      0,      0,      0,      0,\n",
      "             0,      0,      0,      0,      0,      0,      0,      0,\n",
      "             0,      0,      0,      0,      0,      0,      0,   1123,\n",
      "          3141,  17355,  82668,  54328,   2502,   1904, 369523,   1904,\n",
      "         18116,     58,  30792, 150655]]), array([[     0,      0,      0,      0,      0,      0,      0,      0,\n",
      "             0,      0,      0,      0,      0,      0,      0,      0,\n",
      "             0,      0,      0,      0,      0,      0,      0,      0,\n",
      "             0,      0,      0,      0,      0,      0,      0,      0,\n",
      "             0,      0,      0,      0,      0,      0,      0,      0,\n",
      "             0,      0,      0,      0,      0,      0,      0,      0,\n",
      "             0,      0,      0,      0,      0,      0,      0,      0,\n",
      "             0,      0,      0,      0,      0,      0,      0,      0,\n",
      "             0,      0,      0,      0,      0,      0,      0,      0,\n",
      "             0,      0,      0,      0,      0,      0,      0,      0,\n",
      "             0,      0,      0,      0,      0,      0,      0,   1145,\n",
      "          3132,  17494,  82990,  54577,   2548,   1948, 369270,   1948,\n",
      "         18237,     62,  30908, 151009]]), array([[   0,    0,    0,    0,    0,    0,    0,    0,    0,    0,    0,\n",
      "           0,    0,    0,    0,    0,    0,    0,    0,    0,    0,    0,\n",
      "           0,    0,    0,    0,    0,    0,    0,    0,    0,    0,    0,\n",
      "           0,    0,    0,    0,    0,    0,    0,    0,    0,    0,    0,\n",
      "           0,    0,    0,    0,    0,    0,    0,    0,    0,    0,    0,\n",
      "           0,    0,    0,    0,    0,    0,    0,    0,    0,    0,    0,\n",
      "           0,    0,    0,    0,    0,    0,    0,    0,    0,    0,    0,\n",
      "           0,    0,    0,    0,    0,    0,    0,    0,    0,    0, 1118,\n",
      "         857,  250, 2397,   77, 1712,  878,  353,  878,  848,    1, 2020,\n",
      "          16]])], array([[0., 0., 0., 1., 0., 0., 0., 0., 0., 0.]], dtype=float32))\n"
     ]
    }
   ],
   "source": [
    "f = h5py.File(inputPath, \"r\")\n",
    "all_sum = all_num/batch_size\n",
    "i = 0\n",
    "beta = 0.2\n",
    "while True:\n",
    "        labels = np.zeros((batch_size, 10))\n",
    "        input1 = f['cre'][i:i+batch_size]\n",
    "        input2 = f['ad'][i:i+batch_size]\n",
    "        input3 = f['adv'][i:i+batch_size]\n",
    "        input4 = f['pro'][i:i+batch_size]\n",
    "        input5 = f['ind'][i:i+batch_size]\n",
    "\n",
    "        if mode=='train':\n",
    "            for i in range(batch_size):\n",
    "                num = np.random.rand()\n",
    "                if num > beta:\n",
    "                    lens = len(np.nonzero(input1[i])[0])\n",
    "                    print(lens)\n",
    "                    state = np.random.get_state()\n",
    "                    np.random.shuffle(input1[i][100-lens:100-1])\n",
    "                    np.random.set_state(state)\n",
    "                    np.random.shuffle(input2[i][100-lens:100-1])\n",
    "                    np.random.set_state(state)\n",
    "                    np.random.shuffle(input3[i][100-lens:100-1])\n",
    "                    np.random.set_state(state)\n",
    "                    np.random.shuffle(input4[i][100-lens:100-1])\n",
    "                    np.random.set_state(state)\n",
    "                    np.random.shuffle(input5[i][100-lens:100-1])\n",
    "            \n",
    "            indexs = f['age'][i:i+batch_size]\n",
    "            labels = to_categorical(indexs, num_classes=10) #one-hot\n",
    "                    \n",
    "            #labels = label_smoothing(labels) #smoothing\n",
    "        if mode=='vail':\n",
    "            indexs = f['age'][i:i+batch_size]\n",
    "            labels = to_categorical(indexs, num_classes=10) #one-hot\n",
    "            \n",
    "        i += batch_size\n",
    "        if(i==all_num):i=0  #切换下一个epoch\n",
    "        ss = ([input1, input2,input3], labels)\n",
    "        print(ss)\n",
    "        break"
   ]
  },
  {
   "cell_type": "code",
   "execution_count": 8,
   "metadata": {},
   "outputs": [
    {
     "data": {
      "text/plain": [
       "(1, 10)"
      ]
     },
     "execution_count": 8,
     "metadata": {},
     "output_type": "execute_result"
    }
   ],
   "source": [
    "ss[1].shape"
   ]
  },
  {
   "cell_type": "code",
   "execution_count": 89,
   "metadata": {},
   "outputs": [
    {
     "name": "stdout",
     "output_type": "stream",
     "text": [
      "[array([[  10670,  721691,   19467,  152190,     151,      67,  102271,\n",
      "              0,    2225,       0,       0,  500792,       0,   80937,\n",
      "              0,       0,       0,       0,   12645,   11964,       0,\n",
      "            271,       0,       0,       7,       1,       4,       0,\n",
      "              0,   34460,       0,  116381,     803,     365,       0,\n",
      "              0,  337598,       0,       0,   33635,    3102,       1,\n",
      "              0,   12645,       0,       0,       0,    4510,   10955,\n",
      "              0,    9400,  149204,  146829,       0,       0,       0,\n",
      "              0,   22731,       0,       9,    4920,       0,       0,\n",
      "            117,       7,   86290,   12700,     111,    2572,       0,\n",
      "              0,   12645,       0,     791,       0,       0,     511,\n",
      "             48,  180698,       0,  167753,       0,       0,  396644,\n",
      "              0,      36,       0,       0,       4,  124711, 2514430,\n",
      "             36,       0,     241,  290607,       0,       1,     187,\n",
      "              0,  111740],\n",
      "       [     95,       0,       0,   99738,       0,       0,       0,\n",
      "              0,     148,       0,   16374,       0,       0,       0,\n",
      "              0,       0,       0,  118758,   27347,       0,       0,\n",
      "              0,       0,       0,       0,       0,       0,       0,\n",
      "              0,       0,     413,   96619,       0,       0,       0,\n",
      "              0,       0,       0,       0,  357591,       0,       0,\n",
      "              0,      95,   44881,       0,       0,   47441,       0,\n",
      "              0,       0,       0,       0,     257,   63612,  642746,\n",
      "            187,       0,       0,       0,       0,       0,    3094,\n",
      "              0,      53,       0,       0,       0,       0,     177,\n",
      "           2369,       0,       0,    1332,       0,       0,       0,\n",
      "              0,       0,       0,  406350,       0,       0,       0,\n",
      "              0,       0,       0,       0,       0,       0,      33,\n",
      "              0,     158,       0,       0,       0,      20,  190224,\n",
      "              0,       0],\n",
      "       [      0,       0,       0,       0,   26784,       0,       0,\n",
      "              0,       0,       0,       0,       0,     678,       0,\n",
      "         503211,       0,       0,       0,       0,       0,       0,\n",
      "          26784,       0,       0,       0,       0,       0,       0,\n",
      "              0,       0,    3107,       0,       0,       2,     841,\n",
      "              0,       0,    1240,       0,       0,       0,       0,\n",
      "              0,       0,       0,  256890,       0,       0,       0,\n",
      "              0,       0,       2,       0,       0,       0,     613,\n",
      "            363,       0,       0,     336,     336,       0,   19863,\n",
      "              0,     156,   26784,    1633,       0,       0,      20,\n",
      "              0,       0,  179707,     323,       0,       0,   13213,\n",
      "              0,       0,       0,       0,   22142,       0,       0,\n",
      "         627202,       0,       0,       0,       0,       0,       0,\n",
      "              0,       0,       0,     422,       0,       0,    2194,\n",
      "              0,       0],\n",
      "       [      0,       0,       0,       0,       0,       0,       0,\n",
      "              0,       0,       0,       0,       0,  103114,    3713,\n",
      "              0,  681345,       0,   13024,       0,       0,   19938,\n",
      "              0,       0,       0,    2670,       0,       0,    3715,\n",
      "              0,       0,     100,       0,       0,   13224,       0,\n",
      "              0,       0,    1765,     178,       0,       0,       0,\n",
      "          19299,       0,       0,       0,   79722,       0,       0,\n",
      "          35931,       0,   47121,       0,       0,       0,       0,\n",
      "              0,       0,       0,       0,   16256,  207655,       0,\n",
      "              0,       0,       0,       0,       0,       0,     666,\n",
      "           2670,       0,       0,       0,       0,  159491,   10560,\n",
      "              0,       0,    5766,       0,       0,       0,   34584,\n",
      "              0,       0,       0,       0,    2652,       0,       0,\n",
      "              0,       0,       0,       0,       0,       0,       0,\n",
      "         326222,       0],\n",
      "       [      0,       0,       0,       0,       0,       0,       0,\n",
      "              0,       0,       0,       0,       0,       0,       0,\n",
      "              0,       0,     321,       0,       0,       0,       0,\n",
      "              0,       0,       0,       0,       0,       0,       0,\n",
      "              0,       0,       0,       0,       0,       0,       0,\n",
      "              0,       0,       0,       0,   32500,       0,    8184,\n",
      "              0,       0,       0,       0,       0,    4963,       0,\n",
      "            560,       0,       0,       0,       0,       0,       0,\n",
      "              0,       0,       0,       0,       0,       0,       0,\n",
      "          88747,       0,       0,       0,       0,       0,     139,\n",
      "              0,       0,       0,       0,       0,       0,       0,\n",
      "              0,       0,       0,       0,       0,       0,       0,\n",
      "        3223878,       0,       0,       0,       0,       0,       0,\n",
      "              0,       0,    5205,    4606,   76396,       0,       0,\n",
      "              0,       0]]), array([[  10815,  716590,   19582,  134540,     154,      71,  102585,\n",
      "              0,    2029,       0,       0,  454444,       0,   75604,\n",
      "              0,       0,       0,       0,   12176,   12092,       0,\n",
      "            280,       0,       0,       7,       1,       5,       0,\n",
      "              0,   34600,       0,  116749,     814,     370,       0,\n",
      "              0,  337332,       0,       0,   33776,    3166,       1,\n",
      "              0,   12176,       0,       0,       0,    4616,   11095,\n",
      "              0,    9542,   96593,  147164,       0,       0,       0,\n",
      "              0,   22841,       0,       9,    5009,       0,       0,\n",
      "            123,       7,   86544,   12826,     116,    2622,       0,\n",
      "              0,   12176,       0,     800,       0,       0,     525,\n",
      "             50,  181081,       0,  164598,       0,       0,  341443,\n",
      "              0,      36,       0,       0,       5,  125117, 2358828,\n",
      "             36,       0,     246,  183558,       0,       1,     192,\n",
      "              0,  112102],\n",
      "       [     99,       0,       0,  100051,       0,       0,       0,\n",
      "              0,     105,       0,   16462,       0,       0,       0,\n",
      "              0,       0,       0,  119176,   14509,       0,       0,\n",
      "              0,       0,       0,       0,       0,       0,       0,\n",
      "              0,       0,     419,   96941,       0,       0,       0,\n",
      "              0,       0,       0,       0,  357265,       0,       0,\n",
      "              0,      99,   45054,       0,       0,   47641,       0,\n",
      "              0,       0,       0,       0,     263,   63844,  639312,\n",
      "            192,       0,       0,       0,       0,       0,    1686,\n",
      "              0,      55,       0,       0,       0,       0,     182,\n",
      "           2422,       0,       0,    1363,       0,       0,       0,\n",
      "              0,       0,       0,  405560,       0,       0,       0,\n",
      "              0,       0,       0,       0,       0,       0,      33,\n",
      "              0,     161,       0,       0,       0,      19,  190581,\n",
      "              0,       0],\n",
      "       [      0,       0,       0,       0,   26724,       0,       0,\n",
      "              0,       0,       0,       0,       0,     695,       0,\n",
      "         501480,       0,       0,       0,       0,       0,       0,\n",
      "          26724,       0,       0,       0,       0,       0,       0,\n",
      "              0,       0,    3173,       0,       0,       3,     853,\n",
      "              0,       0,    1203,       0,       0,       0,       0,\n",
      "              0,       0,       0,  256907,       0,       0,       0,\n",
      "              0,       0,       3,       0,       0,       0,     629,\n",
      "            368,       0,       0,     341,     341,       0,   19992,\n",
      "              0,     159,   26724,     715,       0,       0,      19,\n",
      "              0,       0,  180063,     328,       0,       0,   13158,\n",
      "              0,       0,       0,       0,   22256,       0,       0,\n",
      "          98475,       0,       0,       0,       0,       0,       0,\n",
      "              0,       0,       0,      74,       0,       0,    1699,\n",
      "              0,       0],\n",
      "       [      0,       0,       0,       0,       0,       0,       0,\n",
      "              0,       0,       0,       0,       0,   72830,    3796,\n",
      "              0,  677238,       0,   13155,       0,       0,   20065,\n",
      "              0,       0,       0,    2726,       0,       0,    3799,\n",
      "              0,       0,     104,       0,       0,   13354,       0,\n",
      "              0,       0,    1817,     149,       0,       0,       0,\n",
      "           1061,       0,       0,       0,   62810,       0,       0,\n",
      "          34133,       0,   47167,       0,       0,       0,       0,\n",
      "              0,       0,       0,       0,   16363,  207922,       0,\n",
      "              0,       0,       0,       0,       0,       0,     677,\n",
      "           2726,       0,       0,       0,       0,  147197,   10710,\n",
      "              0,       0,    5876,       0,       0,       0,   34737,\n",
      "              0,       0,       0,       0,    2708,       0,       0,\n",
      "              0,       0,       0,       0,       0,       0,       0,\n",
      "         326071,       0],\n",
      "       [      0,       0,       0,       0,       0,       0,       0,\n",
      "              0,       0,       0,       0,       0,       0,       0,\n",
      "              0,       0,     115,       0,       0,       0,       0,\n",
      "              0,       0,       0,       0,       0,       0,       0,\n",
      "              0,       0,       0,       0,       0,       0,       0,\n",
      "              0,       0,       0,       0,   32632,       0,    8329,\n",
      "              0,       0,       0,       0,       0,    5057,       0,\n",
      "            483,       0,       0,       0,       0,       0,       0,\n",
      "              0,       0,       0,       0,       0,       0,       0,\n",
      "          63176,       0,       0,       0,       0,       0,     143,\n",
      "              0,       0,       0,       0,       0,       0,       0,\n",
      "              0,       0,       0,       0,       0,       0,       0,\n",
      "        1871203,       0,       0,       0,       0,       0,       0,\n",
      "              0,       0,    5308,    4710,   76674,       0,       0,\n",
      "              0,       0]]), array([[   27,  2319,    12,  4472,     2,     2,   321,     0,    21,\n",
      "            0,     0,  8764,     0,  1435,     0,     0,     0,     0,\n",
      "          493,     7,     0,     2,     0,     0,     2,     2,     2,\n",
      "            0,     0,  6401,     0,   273,   138,     7,     0,     0,\n",
      "         4357,     0,     0,    36,    27,     2,     0,   493,     0,\n",
      "            0,     0,    18,   185,     0,   531,  5940,  1407,     0,\n",
      "            0,     0,     0,    27,     0,     7,    50,     0,     0,\n",
      "            7,     2,  5432,  4362,     2,   694,     0,     0,   493,\n",
      "            0,   138,     0,     0,    27,     7,   139,     0,  1435,\n",
      "            0,     0,  1435,     0,     2,     0,     0,     2,  7425,\n",
      "         3061,     2,     0,     2,  5571,     0,     2,    47,     0,\n",
      "         1435],\n",
      "       [  144,     0,     0,  1762,     0,     0,     0,     0,    69,\n",
      "            0,   557,     0,     0,     0,     0,     0,     0,   696,\n",
      "          160,     0,     0,     0,     0,     0,     0,     0,     0,\n",
      "            0,     0,     0,   423,  4842,     0,     0,     0,     0,\n",
      "            0,     0,     0,    26,     0,     0,     0,   144,  3713,\n",
      "            0,     0,  1044,     0,     0,     0,     0,     0,     4,\n",
      "          563, 29321,    47,     0,     0,     0,     0,     0,  2484,\n",
      "            0,   126,     0,     0,     0,     0,     8,     1,     0,\n",
      "            0,   980,     0,     0,     0,     0,     0,     0,   447,\n",
      "            0,     0,     0,     0,     0,     0,     0,     0,     0,\n",
      "            4,     0,     4,     0,     0,     0,    41,    23,     0,\n",
      "            0],\n",
      "       [    0,     0,     0,     0,  1753,     0,     0,     0,     0,\n",
      "            0,     0,     0,     4,     0,   356,     0,     0,     0,\n",
      "            0,     0,     0,  1753,     0,     0,     0,     0,     0,\n",
      "            0,     0,     0,     9,     0,     0,     8,   140,     0,\n",
      "            0,   136,     0,     0,     0,     0,     0,     0,     0,\n",
      "         1139,     0,     0,     0,     0,     0,     8,     0,     0,\n",
      "            0,    12,    32,     0,     0,   140,   140,     0,   404,\n",
      "            0,    65,  1753,    15,     0,     0,    41,     0,     0,\n",
      "          456,    48,     0,     0,   259,     0,     0,     0,     0,\n",
      "            4,     0,     0,    84,     0,     0,     0,     0,     0,\n",
      "            0,     0,     0,     0,    13,     0,     0,    90,     0,\n",
      "            0],\n",
      "       [    0,     0,     0,     0,     0,     0,     0,     0,     0,\n",
      "            0,     0,     0,    38,   303,     0, 24300,     0,  2050,\n",
      "            0,     0,   836,     0,     0,     0,    31,     0,     0,\n",
      "          544,     0,     0,    13,     0,     0,   238,     0,     0,\n",
      "            0,   969,   316,     0,     0,     0,    87,     0,     0,\n",
      "            0,   583,     0,     0,    32,     0,    32,     0,     0,\n",
      "            0,     0,     0,     0,     0,     0,   229,  2703,     0,\n",
      "            0,     0,     0,     0,     0,     0,   491,    31,     0,\n",
      "            0,     0,     0,   123,  2145,     0,     0,  1522,     0,\n",
      "            0,     0,    75,     0,     0,     0,     0,   150,     0,\n",
      "            0,     0,     0,     0,     0,     0,     0,     0,  8807,\n",
      "            0],\n",
      "       [    0,     0,     0,     0,     0,     0,     0,     0,     0,\n",
      "            0,     0,     0,     0,     0,     0,     0,   339,     0,\n",
      "            0,     0,     0,     0,     0,     0,     0,     0,     0,\n",
      "            0,     0,     0,     0,     0,     0,     0,     0,     0,\n",
      "            0,     0,     0,  1669,     0,    28,     0,     0,     0,\n",
      "            0,     0,  1863,     0,   384,     0,     0,     0,     0,\n",
      "            0,     0,     0,     0,     0,     0,     0,     0,     0,\n",
      "          514,     0,     0,     0,     0,     0,     2,     0,     0,\n",
      "            0,     0,     0,     0,     0,     0,     0,     0,     0,\n",
      "            0,     0,     0,  2586,     0,     0,     0,     0,     0,\n",
      "            0,     0,     0,   603,   134,  1267,     0,     0,     0,\n",
      "            0]])] [[0. 1. 0. 0. 0. 0. 0. 0. 0. 0.]\n",
      " [0. 0. 0. 0. 0. 0. 1. 0. 0. 0.]\n",
      " [0. 0. 0. 0. 0. 0. 0. 1. 0. 0.]\n",
      " [0. 0. 1. 0. 0. 0. 0. 0. 0. 0.]\n",
      " [0. 0. 1. 0. 0. 0. 0. 0. 0. 0.]]\n",
      "[[0. 1. 0. 0. 0. 0. 0. 0. 0. 0.]\n",
      " [0. 0. 0. 0. 0. 0. 1. 0. 0. 0.]\n",
      " [0. 0. 0. 0. 0. 0. 0. 1. 0. 0.]\n",
      " [0. 0. 1. 0. 0. 0. 0. 0. 0. 0.]\n",
      " [0. 0. 1. 0. 0. 0. 0. 0. 0. 0.]]\n"
     ]
    }
   ],
   "source": [
    "f = h5py.File(inputPath, \"r\")\n",
    "all_sum = all_num/batch_size\n",
    "i = 0\n",
    "beta = 0.2\n",
    "while True:\n",
    "    labels = np.zeros((batch_size, 10))\n",
    "    input1 = f['cre'][i:i+batch_size]\n",
    "    input2 = f['ad'][i:i+batch_size]\n",
    "    input3 = f['adv'][i:i+batch_size]\n",
    "    input4 = f['pro'][i:i+batch_size]\n",
    "    input5 = f['ind'][i:i+batch_size]\n",
    "    \n",
    "    if mode=='train':\n",
    "        for i in range(batch_size):\n",
    "            num = np.random.rand()\n",
    "            if num > beta:\n",
    "                state = np.random.get_state()\n",
    "                np.random.shuffle(input1[i])\n",
    "                np.random.set_state(state)\n",
    "                np.random.shuffle(input2[i])\n",
    "                np.random.set_state(state)\n",
    "                np.random.shuffle(input3[i])\n",
    "                np.random.set_state(state)\n",
    "                np.random.shuffle(input4[i])\n",
    "                np.random.set_state(state)\n",
    "                np.random.shuffle(input5[i])\n",
    "\n",
    "        indexs = f['age'][i:i+batch_size]\n",
    "        labels = to_categorical(indexs, num_classes=10) #one-hot\n",
    "\n",
    "        #labels = label_smoothing(labels) #smoothing\n",
    "    if mode=='vail':\n",
    "        indexs = f['age'][i:i+batch_size]\n",
    "        labels = to_categorical(indexs, num_classes=10) #one-hot\n",
    "        \n",
    "  \n",
    "        \n",
    "        \n",
    "    i += batch_size\n",
    "    if(i==all_num):i=0  #切换下一个epoch\n",
    "    print([input1,input2,input3],labels)\n",
    "    print(labels)\n",
    "    break"
   ]
  },
  {
   "cell_type": "code",
   "execution_count": 10,
   "metadata": {},
   "outputs": [],
   "source": [
    "f.close()"
   ]
  },
  {
   "cell_type": "code",
   "execution_count": 1,
   "metadata": {},
   "outputs": [
    {
     "name": "stdout",
     "output_type": "stream",
     "text": [
      "/bin/bash: nvidia-smi: command not found\n"
     ]
    }
   ],
   "source": [
    "!nvidia-smi"
   ]
  },
  {
   "cell_type": "code",
   "execution_count": null,
   "metadata": {},
   "outputs": [],
   "source": [
    "[[0 1 0 0 0 0 0 0 0 0]\n",
    " [0 0 0 0 0 0 1 0 0 0]\n",
    " [0 0 0 0 0 0 0 1 0 0]\n",
    " [0 0 1 0 0 0 0 0 0 0]\n",
    " [0 0 1 0 0 0 0 0 0 0]]"
   ]
  }
 ],
 "metadata": {
  "kernelspec": {
   "display_name": "conda_tensorflow_py3",
   "language": "python",
   "name": "conda_tensorflow_py3"
  },
  "language_info": {
   "codemirror_mode": {
    "name": "ipython",
    "version": 3
   },
   "file_extension": ".py",
   "mimetype": "text/x-python",
   "name": "python",
   "nbconvert_exporter": "python",
   "pygments_lexer": "ipython3",
   "version": "3.6.5"
  }
 },
 "nbformat": 4,
 "nbformat_minor": 4
}
